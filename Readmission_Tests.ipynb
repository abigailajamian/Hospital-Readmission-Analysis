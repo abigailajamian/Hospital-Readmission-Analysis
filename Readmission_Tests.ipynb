{
 "cells": [
  {
   "cell_type": "code",
   "execution_count": 31,
   "id": "6f7b311f-66a2-47a3-9c12-66511379cff3",
   "metadata": {
    "tags": []
   },
   "outputs": [],
   "source": [
    "# import packages\n",
    "import numpy as np \n",
    "import pandas as pd \n",
    "from scipy.stats import chi2_contingency\n",
    "from scipy.stats import ttest_ind\n",
    "import matplotlib.pyplot as plt\n",
    "%matplotlib inline\n",
    "import plotnine as p9\n",
    "import seaborn as sns\n",
    "\n",
    "# import data\n",
    "internal = pd.read_csv('data/medical_clean.csv')\n",
    "external = pd.read_csv('data/External_Hospital_Data.csv')\n",
    "\n",
    "# Define boolean masks\n",
    "internal_readmitted_mask = internal['ReAdmis'] == 'Yes'\n",
    "external_readmitted_mask = external['Readmission'] == 'Yes'\n",
    "\n",
    "# Confidence level\n",
    "alpha = .05"
   ]
  },
  {
   "cell_type": "markdown",
   "id": "0d733af6",
   "metadata": {},
   "source": [
    "## Initial Days"
   ]
  },
  {
   "cell_type": "markdown",
   "id": "7c569e6b-7d0a-4cea-a47e-dd21fa7d75f3",
   "metadata": {
    "tags": []
   },
   "source": [
    "### T-test: Internal Intial Days and Readmission"
   ]
  },
  {
   "cell_type": "code",
   "execution_count": 50,
   "id": "9229b6f7-f6cd-46f1-bc53-7862467e0f81",
   "metadata": {
    "tags": []
   },
   "outputs": [
    {
     "name": "stdout",
     "output_type": "stream",
     "text": [
      "Reject the null hypothesis [p_value = 0.000]; \n",
      " there is a significant difference between the initial days of patients readmitted an patients not readmitted.\n"
     ]
    }
   ],
   "source": [
    "# Perform the t-test:\n",
    "t_stat, p_value = ttest_ind(internal[internal_readmitted_mask].Initial_days\n",
    "                            ,internal[np.logical_not(internal_readmitted_mask)].Initial_days)\n",
    "\n",
    "# Interpret the results:\n",
    "if p_value < alpha:\n",
    "    print(\"Reject the null hypothesis [p_value = {:.3f}]; \\n there is a significant difference between the initial days of patients readmitted an patients not readmitted.\".format(p_value))\n",
    "else:\n",
    "    print(\"Fail to reject the null hypothesis [p_value = {:.3f}]; \\n there is no significant difference between the initial days of patients readmitted an patients not readmitted.\".format(p_value))\n",
    "    "
   ]
  },
  {
   "cell_type": "markdown",
   "id": "1fdea756",
   "metadata": {},
   "source": [
    "### T-test: External Intial Days and Readmission"
   ]
  },
  {
   "cell_type": "code",
   "execution_count": 49,
   "id": "b0ed37ce",
   "metadata": {},
   "outputs": [
    {
     "name": "stdout",
     "output_type": "stream",
     "text": [
      "Fail to reject the null hypothesis [p_value = 0.143]; \n",
      " there is no significant difference between the initial days of patients readmitted and patients not readmitted.\n"
     ]
    }
   ],
   "source": [
    "# Perform the t-test:\n",
    "t_stat, p_value = ttest_ind(external[external_readmitted_mask].Length_of_Stay\n",
    "                            ,external[np.logical_not(external_readmitted_mask)].Length_of_Stay)\n",
    "\n",
    "# Interpret the results:\n",
    "if p_value < alpha:\n",
    "    print(\"Reject the null hypothesis [p_value = {:.3f}]; \\n there is a significant difference between the initial days of patients readmitted and patients not readmitted.\".format(p_value))\n",
    "else:\n",
    "    print(\"Fail to reject the null hypothesis [p_value = {:.3f}]; \\n there is no significant difference between the initial days of patients readmitted and patients not readmitted.\".format(p_value))\n",
    "    "
   ]
  },
  {
   "cell_type": "markdown",
   "id": "55f97a1d",
   "metadata": {},
   "source": [
    "### T-test: Internal vs. External Intial Days"
   ]
  },
  {
   "cell_type": "code",
   "execution_count": 38,
   "id": "a61adbc6",
   "metadata": {},
   "outputs": [
    {
     "name": "stdout",
     "output_type": "stream",
     "text": [
      "Reject the null hypothesis [p_value = 0.000]; \n",
      " there is a significant difference between the initial days of all patients from the internal and external data.\n"
     ]
    }
   ],
   "source": [
    "# Perform the t-test:\n",
    "t_stat, p_value = ttest_ind(external.Length_of_Stay\n",
    "                            , internal.Initial_days)\n",
    "\n",
    "# Interpret the results:\n",
    "if p_value < alpha:\n",
    "    print(\"Reject the null hypothesis [p_value = {:.3f}]; \\n there is a significant difference between the initial days of all patients from the internal and external data.\".format(p_value))\n",
    "else:\n",
    "    print(\"Fail to reject the null hypothesis [p_value = {:.3f%}]; \\n there is no significant difference between the initial days of all patients from the internal and external data.\")\n",
    "    "
   ]
  },
  {
   "cell_type": "markdown",
   "id": "b8240718",
   "metadata": {},
   "source": [
    "## Age"
   ]
  },
  {
   "cell_type": "markdown",
   "id": "dcdf19af",
   "metadata": {},
   "source": [
    "### T-test: Age internal vs. external "
   ]
  },
  {
   "cell_type": "code",
   "execution_count": 48,
   "id": "69a7c0d6",
   "metadata": {},
   "outputs": [
    {
     "name": "stdout",
     "output_type": "stream",
     "text": [
      "Fail to reject the null hypothesis [p_value = 0.719]; \n",
      " there is no significant difference between the initial days of patients from the internal and external data.\n"
     ]
    }
   ],
   "source": [
    "# Perform the t-test:\n",
    "t_stat, p_value = ttest_ind(external.Age\n",
    "                            ,internal.Age)\n",
    "\n",
    "# Interpret the results:\n",
    "if p_value < alpha:\n",
    "    print(\"Reject the null hypothesis [p_value = {:.3f}]; \\n there is a significant difference between the initial days of patients from the internal and external data.\".format(p_value))\n",
    "else:\n",
    "    print(\"Fail to reject the null hypothesis [p_value = {:.3f}]; \\n there is no significant difference between the patients age from the internal and external data.\".format(p_value))\n",
    "    "
   ]
  },
  {
   "cell_type": "markdown",
   "id": "eb60f6bb",
   "metadata": {},
   "source": [
    "### T-test: Age of Internal Readmitted and Not Readmitted"
   ]
  },
  {
   "cell_type": "code",
   "execution_count": 53,
   "id": "6f37e8a0",
   "metadata": {},
   "outputs": [
    {
     "name": "stdout",
     "output_type": "stream",
     "text": [
      "Fail to reject the null hypothesis [p_value = 0.114]; \n",
      " there is no significant difference between the internal datas Age of patients readmitted and patients not readmitted.\n"
     ]
    }
   ],
   "source": [
    "# Perform the t-test:\n",
    "t_stat, p_value = ttest_ind(internal[internal_readmitted_mask].Age\n",
    "                            ,internal[np.logical_not(internal_readmitted_mask)].Age)\n",
    "\n",
    "# Interpret the results:\n",
    "if p_value < alpha:\n",
    "    print(\"Reject the null hypothesis [p_value = {:.3f}]; \\n there is a significant difference between the internal datas Age of patients readmitted and patients not readmitted.\".format(p_value))\n",
    "else:\n",
    "    print(\"Fail to reject the null hypothesis [p_value = {:.3f}]; \\n there is no significant difference between the internal datas Age of patients readmitted and patients not readmitted.\".format(p_value))\n",
    "    "
   ]
  },
  {
   "cell_type": "markdown",
   "id": "09e08cf2",
   "metadata": {},
   "source": [
    "### T-test: External intial days and Readmission"
   ]
  },
  {
   "cell_type": "code",
   "execution_count": 55,
   "id": "8151b0fa",
   "metadata": {},
   "outputs": [
    {
     "name": "stdout",
     "output_type": "stream",
     "text": [
      "Reject the null hypothesis [p_value = 0.000]; \n",
      " there is a significant difference between the external datas Age of patients readmitted and patients not readmitted.\n"
     ]
    }
   ],
   "source": [
    "# Perform the t-test:\n",
    "t_stat, p_value = ttest_ind(external[external_readmitted_mask].Age\n",
    "                            ,external[np.logical_not(external_readmitted_mask)].Age)\n",
    "\n",
    "# Interpret the results:\n",
    "if p_value < alpha:\n",
    "    print(\"Reject the null hypothesis [p_value = {:.3f}]; \\n there is a significant difference between the external datas Age of patients readmitted and patients not readmitted.\".format(p_value))\n",
    "else:\n",
    "    print(\"Fail to reject the null hypothesis [p_value = {:.3f}]; \\n there is no significant difference between the external datas Age of patients readmitted and patients not readmitted.\".format(p_value))\n",
    "    "
   ]
  },
  {
   "cell_type": "markdown",
   "id": "5005963c",
   "metadata": {},
   "source": [
    "### T-test: Internal vs External Age of Readmission"
   ]
  },
  {
   "cell_type": "code",
   "execution_count": 57,
   "id": "ad2da141",
   "metadata": {},
   "outputs": [
    {
     "name": "stdout",
     "output_type": "stream",
     "text": [
      "Reject the null hypothesis [p_value = 0.000]; \n",
      " there is a significant difference between the internal data and external data Age of patients who were readmitted.\n"
     ]
    }
   ],
   "source": [
    "# Perform the t-test:\n",
    "t_stat, p_value = ttest_ind(internal[internal_readmitted_mask].Age\n",
    "                            ,external[external_readmitted_mask].Age)\n",
    "\n",
    "# Interpret the results:\n",
    "if p_value < alpha:\n",
    "    print(\"Reject the null hypothesis [p_value = {:.3f}]; \\n there is a significant difference between the internal data and external data Age of patients who were readmitted.\".format(p_value))\n",
    "else:\n",
    "    print(\"Fail to reject the null hypothesis [p_value = {:.3f}]; \\n there is no significant difference between the internal data and external data Age of patients who were readmitted\".format(p_value))\n",
    "    "
   ]
  },
  {
   "cell_type": "markdown",
   "id": "1fe19c8b",
   "metadata": {},
   "source": [
    "## Gender"
   ]
  },
  {
   "cell_type": "markdown",
   "id": "0599a957",
   "metadata": {},
   "source": [
    "### Chi2: Readmission vs Gender Internal"
   ]
  },
  {
   "cell_type": "code",
   "execution_count": 69,
   "id": "5d72e66e",
   "metadata": {},
   "outputs": [
    {
     "name": "stdout",
     "output_type": "stream",
     "text": [
      "Fail to reject the null hypothesis [p_value = 0.954]; \n",
      " there is no significant difference for the internal data between gender and readmission\n"
     ]
    }
   ],
   "source": [
    "# Create a contingency table\n",
    "contingency_table = pd.crosstab(index=internal['Gender'], columns=internal['ReAdmis'], margins=True)\n",
    "\n",
    "# Run Chi-Square Test\n",
    "chi2, p_value, dof, expected = chi2_contingency(contingency_table)\n",
    "\n",
    "# Interpret the results:\n",
    "if p_value < alpha:\n",
    "    print(\"Reject the null hypothesis [p_value = {:.3f}]; \\n there is a significant difference for the internal data between gender and readmission.\".format(p_value))\n",
    "else:\n",
    "    print(\"Fail to reject the null hypothesis [p_value = {:.3f}]; \\n there is no significant difference for the internal data between gender and readmission\".format(p_value))\n",
    "    "
   ]
  },
  {
   "cell_type": "markdown",
   "id": "0fe863c0",
   "metadata": {},
   "source": [
    "### Chi2: Readmission vs Gender External"
   ]
  },
  {
   "cell_type": "code",
   "execution_count": 71,
   "id": "bd96b237",
   "metadata": {},
   "outputs": [
    {
     "name": "stdout",
     "output_type": "stream",
     "text": [
      "Reject the null hypothesis [p_value = 0.000]; \n",
      " there is a significant difference for the external data between gender and readmission.\n"
     ]
    }
   ],
   "source": [
    "# Create a contingency table\n",
    "contingency_table = pd.crosstab(index=external['Gender'], columns=external['Readmission'], margins=True)\n",
    "\n",
    "# Run Chi-Square Test\n",
    "chi2, p_value, dof, expected = chi2_contingency(contingency_table)\n",
    "\n",
    "# Interpret the results:\n",
    "if p_value < alpha:\n",
    "    print(\"Reject the null hypothesis [p_value = {:.3f}]; \\n there is a significant difference for the external data between gender and readmission.\".format(p_value))\n",
    "else:\n",
    "    print(\"Fail to reject the null hypothesis [p_value = {:.3f}]; \\n there is no significant difference for the external data between gender and readmission\".format(p_value))\n",
    "    "
   ]
  }
 ],
 "metadata": {
  "kernelspec": {
   "display_name": "Python 3",
   "language": "python",
   "name": "python3"
  },
  "language_info": {
   "codemirror_mode": {
    "name": "ipython",
    "version": 3
   },
   "file_extension": ".py",
   "mimetype": "text/x-python",
   "name": "python",
   "nbconvert_exporter": "python",
   "pygments_lexer": "ipython3",
   "version": "3.7.3"
  }
 },
 "nbformat": 4,
 "nbformat_minor": 5
}
